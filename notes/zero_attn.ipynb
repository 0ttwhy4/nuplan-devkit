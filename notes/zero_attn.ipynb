{
 "cells": [
  {
   "cell_type": "code",
   "execution_count": 1,
   "metadata": {},
   "outputs": [],
   "source": [
    "import torch"
   ]
  },
  {
   "cell_type": "code",
   "execution_count": 2,
   "metadata": {},
   "outputs": [],
   "source": [
    "bsz_numheads = 512\n",
    "src_len = 256\n",
    "head_dim = 64"
   ]
  },
  {
   "cell_type": "code",
   "execution_count": 3,
   "metadata": {},
   "outputs": [],
   "source": [
    "k = torch.rand((bsz_numheads, src_len, head_dim))"
   ]
  },
  {
   "cell_type": "code",
   "execution_count": 4,
   "metadata": {},
   "outputs": [],
   "source": [
    "k = torch.cat([k, torch.zeros((k.size(0), 1) + k.size()[2:], dtype=k.dtype, device=k.device)], dim=1)"
   ]
  },
  {
   "cell_type": "code",
   "execution_count": 5,
   "metadata": {},
   "outputs": [
    {
     "data": {
      "text/plain": [
       "(512, 1, 64)"
      ]
     },
     "execution_count": 5,
     "metadata": {},
     "output_type": "execute_result"
    }
   ],
   "source": [
    "(k.size(0), 1) + k.size()[2:]"
   ]
  },
  {
   "cell_type": "code",
   "execution_count": 6,
   "metadata": {},
   "outputs": [],
   "source": [
    "def create_2D_grid(x_size, y_size):\n",
    "        meshgrid = [[0, x_size - 1, x_size], [0, y_size - 1, y_size]]\n",
    "        batch_y, batch_x = torch.meshgrid(*[torch.linspace(it[0], it[1], it[2]) for it in meshgrid])\n",
    "        batch_x = batch_x + 0.5\n",
    "        batch_y = batch_y + 0.5\n",
    "        coord_base = torch.cat([batch_x[None], batch_y[None]], dim=0)[None]\n",
    "        coord_base = coord_base.view(1, 2, -1).permute(0, 2, 1)\n",
    "        return coord_base"
   ]
  },
  {
   "cell_type": "code",
   "execution_count": 20,
   "metadata": {},
   "outputs": [
    {
     "name": "stdout",
     "output_type": "stream",
     "text": [
      "tensor([0.]) tensor([0., 1., 2., 3., 4., 5., 6., 7., 8., 9.])\n"
     ]
    },
    {
     "data": {
      "text/plain": [
       "tensor([[[0., 0.],\n",
       "         [1., 0.],\n",
       "         [2., 0.],\n",
       "         [3., 0.],\n",
       "         [4., 0.],\n",
       "         [5., 0.],\n",
       "         [6., 0.],\n",
       "         [7., 0.],\n",
       "         [8., 0.],\n",
       "         [9., 0.]]])"
      ]
     },
     "execution_count": 20,
     "metadata": {},
     "output_type": "execute_result"
    }
   ],
   "source": [
    "x_size = 1\n",
    "y_size = 10\n",
    "meshgrid = [[0, x_size-1, x_size], [0, y_size-1, y_size]] # [[0,4,5], [0,9,10]]\n",
    "print(*[torch.linspace(it[0], it[1], it[2]) for it in meshgrid])\n",
    "batch_y, batch_x = torch.meshgrid(*[torch.linspace(it[0], it[1], it[2]) for it in meshgrid])\n",
    "coord_base = torch.cat([batch_x[None], batch_y[None]], dim=0)[None]\n",
    "coord_base = coord_base.view(1, 2, -1).permute(0, 2, 1)\n",
    "coord_base"
   ]
  },
  {
   "cell_type": "code",
   "execution_count": 16,
   "metadata": {},
   "outputs": [
    {
     "name": "stdout",
     "output_type": "stream",
     "text": [
      "tensor(4)\n",
      "tensor(1)\n"
     ]
    }
   ],
   "source": [
    "x = torch.tensor([2,4,6,8])\n",
    "y = torch.tensor([1,3,5])\n",
    "grid_x, grid_y = torch.meshgrid(x, y, indexing='xy')\n",
    "print(grid_x[0][1])\n",
    "print(grid_y[0][1])"
   ]
  }
 ],
 "metadata": {
  "kernelspec": {
   "display_name": "nuplan",
   "language": "python",
   "name": "python3"
  },
  "language_info": {
   "codemirror_mode": {
    "name": "ipython",
    "version": 3
   },
   "file_extension": ".py",
   "mimetype": "text/x-python",
   "name": "python",
   "nbconvert_exporter": "python",
   "pygments_lexer": "ipython3",
   "version": "3.9.19"
  }
 },
 "nbformat": 4,
 "nbformat_minor": 2
}
